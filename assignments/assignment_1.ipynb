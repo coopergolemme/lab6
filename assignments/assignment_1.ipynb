{
 "cells": [
  {
   "cell_type": "markdown",
   "metadata": {},
   "source": [
    "# Introduction to Graph Datbases\n",
    "\n",
    "The first part of this assignment is designed to give you hands-on experience with graph databases. You will start by setting up an in-memory graph database, for which the support code is already written. Once the database is running, you will execute queries of increasing complexity, exploring how relationships between nodes and edges are stored and retrieved. Through this process, you will gain practical insights into graph database concepts such as connectivity, traversal, and querying using graph-specific languages."
   ]
  },
  {
   "cell_type": "code",
   "execution_count": 1,
   "metadata": {},
   "outputs": [],
   "source": [
    "import os\n",
    "import sys\n",
    "\n",
    "sys.path.append(os.path.abspath(os.path.join(os.path.dirname('__file__'), '..')))\n",
    "from utils import setup_database, download_sample_data"
   ]
  },
  {
   "cell_type": "code",
   "execution_count": 2,
   "metadata": {},
   "outputs": [
    {
     "name": "stdout",
     "output_type": "stream",
     "text": [
      "Downloading sample data\n",
      "Downloading https://kuzudb.com/data/movie-lens/movies.csv...\n",
      "Saved https://kuzudb.com/data/movie-lens/movies.csv to ../data/movies.csv\n",
      "Downloading https://kuzudb.com/data/movie-lens/users.csv...\n",
      "Saved https://kuzudb.com/data/movie-lens/users.csv to ../data/users.csv\n",
      "Downloading https://kuzudb.com/data/movie-lens/ratings.csv...\n",
      "Saved https://kuzudb.com/data/movie-lens/ratings.csv to ../data/ratings.csv\n",
      "Downloading https://kuzudb.com/data/movie-lens/tags.csv...\n",
      "Saved https://kuzudb.com/data/movie-lens/tags.csv to ../data/tags.csv\n",
      "Sample data downloaded successfully\n",
      "Loading graph database\n",
      "Removing existing database at ../tmp\n"
     ]
    }
   ],
   "source": [
    "# Download sample data for the Kuzudb example\n",
    "data_dir = '../data'\n",
    "download_sample_data(data_dir, urls=[\n",
    "    \"https://kuzudb.com/data/movie-lens/movies.csv\",\n",
    "    \"https://kuzudb.com/data/movie-lens/users.csv\",\n",
    "    \"https://kuzudb.com/data/movie-lens/ratings.csv\",\n",
    "    \"https://kuzudb.com/data/movie-lens/tags.csv\"\n",
    "])\n",
    "\n",
    "# Set up the Kuzudb database connection\n",
    "connection = setup_database('../tmp', delete_existing=True)\n",
    "\n",
    "# Create schema\n",
    "connection.execute('CREATE NODE TABLE Movie (movieId INT64, year INT64, title STRING, genres STRING, PRIMARY KEY (movieId))')\n",
    "connection.execute('CREATE NODE TABLE User (userId INT64, PRIMARY KEY (userId))')\n",
    "connection.execute('CREATE REL TABLE Rating (FROM User TO Movie, rating DOUBLE, timestamp INT64)')\n",
    "connection.execute('CREATE REL TABLE Tags (FROM User TO Movie, tag STRING, timestamp INT64)')\n",
    "\n",
    "# Insert data\n",
    "connection.execute(f'COPY Movie FROM \"{data_dir}/movies.csv\" (HEADER=TRUE)')\n",
    "connection.execute(f'COPY User FROM \"{data_dir}/users.csv\" (HEADER=TRUE)')\n",
    "connection.execute(f'COPY Rating FROM \"{data_dir}/ratings.csv\" (HEADER=TRUE)')\n",
    "connection.execute(f'COPY Tags FROM \"{data_dir}/tags.csv\" (HEADER=TRUE)')\n"
   ]
  },
  {
   "cell_type": "markdown",
   "metadata": {},
   "source": [
    "## Running Queries\n",
    "\n",
    "Now that your graph database is set up, you can begin querying it. This section includes seven queries, each increasing in complexity."
   ]
  },
  {
   "cell_type": "code",
   "execution_count": null,
   "metadata": {},
   "outputs": [
    {
     "data": {
      "application/vnd.microsoft.datawrangler.viewer.v0+json": {
       "columns": [
        {
         "name": "index",
         "rawType": "int64",
         "type": "integer"
        },
        {
         "name": "m",
         "rawType": "object",
         "type": "unknown"
        }
       ],
       "conversionMethod": "pd.DataFrame",
       "ref": "cd4a99e1-c304-437f-9e58-53941b590fd1",
       "rows": [
        [
         "0",
         "{'_id': {'offset': 0, 'table': 0}, '_label': 'Movie', 'movieId': 195, 'year': 1995, 'title': 'Something to Talk About (1995)', 'genres': 'Comedy|Drama|Romance'}"
        ],
        [
         "1",
         "{'_id': {'offset': 1, 'table': 0}, '_label': 'Movie', 'movieId': 196, 'year': 1995, 'title': 'Species (1995)', 'genres': 'Horror|Sci-Fi'}"
        ],
        [
         "2",
         "{'_id': {'offset': 2, 'table': 0}, '_label': 'Movie', 'movieId': 198, 'year': 1995, 'title': 'Strange Days (1995)', 'genres': 'Action|Crime|Drama|Mystery|Sci-Fi|Thriller'}"
        ],
        [
         "3",
         "{'_id': {'offset': 3, 'table': 0}, '_label': 'Movie', 'movieId': 199, 'year': 1964, 'title': 'Umbrellas of Cherbourg, The (Parapluies de Cherbourg, Les) (1964)', 'genres': 'Drama|Musical|Romance'}"
        ],
        [
         "4",
         "{'_id': {'offset': 4, 'table': 0}, '_label': 'Movie', 'movieId': 201, 'year': 1995, 'title': 'Three Wishes (1995)', 'genres': 'Drama|Fantasy'}"
        ]
       ],
       "shape": {
        "columns": 1,
        "rows": 5
       }
      },
      "text/html": [
       "<div>\n",
       "<style scoped>\n",
       "    .dataframe tbody tr th:only-of-type {\n",
       "        vertical-align: middle;\n",
       "    }\n",
       "\n",
       "    .dataframe tbody tr th {\n",
       "        vertical-align: top;\n",
       "    }\n",
       "\n",
       "    .dataframe thead th {\n",
       "        text-align: right;\n",
       "    }\n",
       "</style>\n",
       "<table border=\"1\" class=\"dataframe\">\n",
       "  <thead>\n",
       "    <tr style=\"text-align: right;\">\n",
       "      <th></th>\n",
       "      <th>m</th>\n",
       "    </tr>\n",
       "  </thead>\n",
       "  <tbody>\n",
       "    <tr>\n",
       "      <th>0</th>\n",
       "      <td>{'_id': {'offset': 0, 'table': 0}, '_label': '...</td>\n",
       "    </tr>\n",
       "    <tr>\n",
       "      <th>1</th>\n",
       "      <td>{'_id': {'offset': 1, 'table': 0}, '_label': '...</td>\n",
       "    </tr>\n",
       "    <tr>\n",
       "      <th>2</th>\n",
       "      <td>{'_id': {'offset': 2, 'table': 0}, '_label': '...</td>\n",
       "    </tr>\n",
       "    <tr>\n",
       "      <th>3</th>\n",
       "      <td>{'_id': {'offset': 3, 'table': 0}, '_label': '...</td>\n",
       "    </tr>\n",
       "    <tr>\n",
       "      <th>4</th>\n",
       "      <td>{'_id': {'offset': 4, 'table': 0}, '_label': '...</td>\n",
       "    </tr>\n",
       "  </tbody>\n",
       "</table>\n",
       "</div>"
      ],
      "text/plain": [
       "                                                   m\n",
       "0  {'_id': {'offset': 0, 'table': 0}, '_label': '...\n",
       "1  {'_id': {'offset': 1, 'table': 0}, '_label': '...\n",
       "2  {'_id': {'offset': 2, 'table': 0}, '_label': '...\n",
       "3  {'_id': {'offset': 3, 'table': 0}, '_label': '...\n",
       "4  {'_id': {'offset': 4, 'table': 0}, '_label': '..."
      ]
     },
     "execution_count": 16,
     "metadata": {},
     "output_type": "execute_result"
    }
   ],
   "source": [
    "# Query 1: Query all nodes with the label 'Movie'. Return those movie nodes. Limit your results to 25\n",
    "result = connection.execute(\"\")\n",
    "\n",
    "df = result.get_as_df()\n",
    "df.head()"
   ]
  },
  {
   "cell_type": "code",
   "execution_count": null,
   "metadata": {},
   "outputs": [
    {
     "data": {
      "application/vnd.microsoft.datawrangler.viewer.v0+json": {
       "columns": [
        {
         "name": "index",
         "rawType": "int64",
         "type": "integer"
        },
        {
         "name": "p",
         "rawType": "object",
         "type": "unknown"
        }
       ],
       "conversionMethod": "pd.DataFrame",
       "ref": "3139416f-107f-4cb7-8de3-8aa91103b6e7",
       "rows": [
        [
         "0",
         "{'_nodes': [{'_id': {'offset': 4210, 'table': 0}, '_label': 'Movie', 'movieId': 1, 'year': 1995, 'title': 'Toy Story (1995)', 'genres': 'Adventure|Animation|Children|Comedy|Fantasy', 'userId': None}, {'_id': {'offset': 0, 'table': 1}, '_label': 'User', 'movieId': None, 'year': None, 'title': None, 'genres': None, 'userId': 1}], '_rels': [{'_src': {'offset': 0, 'table': 1}, '_dst': {'offset': 4210, 'table': 0}, '_label': 'Rating', '_id': {'offset': 787, 'table': 2}, 'rating': 4.0, 'timestamp': 964982703, 'tag': None}]}"
        ],
        [
         "1",
         "{'_nodes': [{'_id': {'offset': 4212, 'table': 0}, '_label': 'Movie', 'movieId': 3, 'year': 1995, 'title': 'Grumpier Old Men (1995)', 'genres': 'Comedy|Romance', 'userId': None}, {'_id': {'offset': 0, 'table': 1}, '_label': 'User', 'movieId': None, 'year': None, 'title': None, 'genres': None, 'userId': 1}], '_rels': [{'_src': {'offset': 0, 'table': 1}, '_dst': {'offset': 4212, 'table': 0}, '_label': 'Rating', '_id': {'offset': 788, 'table': 2}, 'rating': 4.0, 'timestamp': 964981247, 'tag': None}]}"
        ],
        [
         "2",
         "{'_nodes': [{'_id': {'offset': 4215, 'table': 0}, '_label': 'Movie', 'movieId': 6, 'year': 1995, 'title': 'Heat (1995)', 'genres': 'Action|Crime|Thriller', 'userId': None}, {'_id': {'offset': 0, 'table': 1}, '_label': 'User', 'movieId': None, 'year': None, 'title': None, 'genres': None, 'userId': 1}], '_rels': [{'_src': {'offset': 0, 'table': 1}, '_dst': {'offset': 4215, 'table': 0}, '_label': 'Rating', '_id': {'offset': 789, 'table': 2}, 'rating': 4.0, 'timestamp': 964982224, 'tag': None}]}"
        ],
        [
         "3",
         "{'_nodes': [{'_id': {'offset': 4253, 'table': 0}, '_label': 'Movie', 'movieId': 47, 'year': 1995, 'title': 'Seven (a.k.a. Se7en) (1995)', 'genres': 'Mystery|Thriller', 'userId': None}, {'_id': {'offset': 0, 'table': 1}, '_label': 'User', 'movieId': None, 'year': None, 'title': None, 'genres': None, 'userId': 1}], '_rels': [{'_src': {'offset': 0, 'table': 1}, '_dst': {'offset': 4253, 'table': 0}, '_label': 'Rating', '_id': {'offset': 790, 'table': 2}, 'rating': 5.0, 'timestamp': 964983815, 'tag': None}]}"
        ],
        [
         "4",
         "{'_nodes': [{'_id': {'offset': 4256, 'table': 0}, '_label': 'Movie', 'movieId': 50, 'year': 1995, 'title': 'Usual Suspects, The (1995)', 'genres': 'Crime|Mystery|Thriller', 'userId': None}, {'_id': {'offset': 0, 'table': 1}, '_label': 'User', 'movieId': None, 'year': None, 'title': None, 'genres': None, 'userId': 1}], '_rels': [{'_src': {'offset': 0, 'table': 1}, '_dst': {'offset': 4256, 'table': 0}, '_label': 'Rating', '_id': {'offset': 791, 'table': 2}, 'rating': 5.0, 'timestamp': 964982931, 'tag': None}]}"
        ]
       ],
       "shape": {
        "columns": 1,
        "rows": 5
       }
      },
      "text/html": [
       "<div>\n",
       "<style scoped>\n",
       "    .dataframe tbody tr th:only-of-type {\n",
       "        vertical-align: middle;\n",
       "    }\n",
       "\n",
       "    .dataframe tbody tr th {\n",
       "        vertical-align: top;\n",
       "    }\n",
       "\n",
       "    .dataframe thead th {\n",
       "        text-align: right;\n",
       "    }\n",
       "</style>\n",
       "<table border=\"1\" class=\"dataframe\">\n",
       "  <thead>\n",
       "    <tr style=\"text-align: right;\">\n",
       "      <th></th>\n",
       "      <th>p</th>\n",
       "    </tr>\n",
       "  </thead>\n",
       "  <tbody>\n",
       "    <tr>\n",
       "      <th>0</th>\n",
       "      <td>{'_nodes': [{'_id': {'offset': 4210, 'table': ...</td>\n",
       "    </tr>\n",
       "    <tr>\n",
       "      <th>1</th>\n",
       "      <td>{'_nodes': [{'_id': {'offset': 4212, 'table': ...</td>\n",
       "    </tr>\n",
       "    <tr>\n",
       "      <th>2</th>\n",
       "      <td>{'_nodes': [{'_id': {'offset': 4215, 'table': ...</td>\n",
       "    </tr>\n",
       "    <tr>\n",
       "      <th>3</th>\n",
       "      <td>{'_nodes': [{'_id': {'offset': 4253, 'table': ...</td>\n",
       "    </tr>\n",
       "    <tr>\n",
       "      <th>4</th>\n",
       "      <td>{'_nodes': [{'_id': {'offset': 4256, 'table': ...</td>\n",
       "    </tr>\n",
       "  </tbody>\n",
       "</table>\n",
       "</div>"
      ],
      "text/plain": [
       "                                                   p\n",
       "0  {'_nodes': [{'_id': {'offset': 4210, 'table': ...\n",
       "1  {'_nodes': [{'_id': {'offset': 4212, 'table': ...\n",
       "2  {'_nodes': [{'_id': {'offset': 4215, 'table': ...\n",
       "3  {'_nodes': [{'_id': {'offset': 4253, 'table': ...\n",
       "4  {'_nodes': [{'_id': {'offset': 4256, 'table': ..."
      ]
     },
     "execution_count": 15,
     "metadata": {},
     "output_type": "execute_result"
    }
   ],
   "source": [
    "# Query 2: Query all nodes with the label 'Movie'. Get all connected nodes to the movie nodes. Limit your results to 50\n",
    "result = connection.execute(\"\")\n",
    "\n",
    "df = result.get_as_df()\n",
    "df.head()"
   ]
  },
  {
   "cell_type": "code",
   "execution_count": null,
   "metadata": {},
   "outputs": [
    {
     "data": {
      "application/vnd.microsoft.datawrangler.viewer.v0+json": {
       "columns": [
        {
         "name": "index",
         "rawType": "int64",
         "type": "integer"
        },
        {
         "name": "TotalNodes",
         "rawType": "int64",
         "type": "integer"
        }
       ],
       "conversionMethod": "pd.DataFrame",
       "ref": "c9bbd4f9-cd26-4569-941d-9ef44427e8be",
       "rows": [
        [
         "0",
         "10352"
        ]
       ],
       "shape": {
        "columns": 1,
        "rows": 1
       }
      },
      "text/html": [
       "<div>\n",
       "<style scoped>\n",
       "    .dataframe tbody tr th:only-of-type {\n",
       "        vertical-align: middle;\n",
       "    }\n",
       "\n",
       "    .dataframe tbody tr th {\n",
       "        vertical-align: top;\n",
       "    }\n",
       "\n",
       "    .dataframe thead th {\n",
       "        text-align: right;\n",
       "    }\n",
       "</style>\n",
       "<table border=\"1\" class=\"dataframe\">\n",
       "  <thead>\n",
       "    <tr style=\"text-align: right;\">\n",
       "      <th></th>\n",
       "      <th>TotalNodes</th>\n",
       "    </tr>\n",
       "  </thead>\n",
       "  <tbody>\n",
       "    <tr>\n",
       "      <th>0</th>\n",
       "      <td>10352</td>\n",
       "    </tr>\n",
       "  </tbody>\n",
       "</table>\n",
       "</div>"
      ],
      "text/plain": [
       "   TotalNodes\n",
       "0       10352"
      ]
     },
     "execution_count": 14,
     "metadata": {},
     "output_type": "execute_result"
    }
   ],
   "source": [
    "# Query 3: Count the total number of nodes in the database\n",
    "# Hint: Use the `COUNT` function to count the number of nodes\n",
    "result = connection.execute(\"\")\n",
    "\n",
    "df = result.get_as_df()\n",
    "df.head()"
   ]
  },
  {
   "cell_type": "code",
   "execution_count": null,
   "metadata": {},
   "outputs": [
    {
     "data": {
      "application/vnd.microsoft.datawrangler.viewer.v0+json": {
       "columns": [
        {
         "name": "index",
         "rawType": "int64",
         "type": "integer"
        },
        {
         "name": "u",
         "rawType": "object",
         "type": "unknown"
        },
        {
         "name": "degree",
         "rawType": "int64",
         "type": "integer"
        }
       ],
       "conversionMethod": "pd.DataFrame",
       "ref": "4ac2deee-fd4e-430f-bf0b-7c6eb50083cf",
       "rows": [
        [
         "0",
         "{'_id': {'offset': 591, 'table': 1}, '_label': 'User', 'userId': 592}",
         "94"
        ],
        [
         "1",
         "{'_id': {'offset': 607, 'table': 1}, '_label': 'User', 'userId': 608}",
         "831"
        ],
        [
         "2",
         "{'_id': {'offset': 181, 'table': 1}, '_label': 'User', 'userId': 182}",
         "977"
        ],
        [
         "3",
         "{'_id': {'offset': 601, 'table': 1}, '_label': 'User', 'userId': 602}",
         "135"
        ],
        [
         "4",
         "{'_id': {'offset': 169, 'table': 1}, '_label': 'User', 'userId': 170}",
         "50"
        ]
       ],
       "shape": {
        "columns": 2,
        "rows": 5
       }
      },
      "text/html": [
       "<div>\n",
       "<style scoped>\n",
       "    .dataframe tbody tr th:only-of-type {\n",
       "        vertical-align: middle;\n",
       "    }\n",
       "\n",
       "    .dataframe tbody tr th {\n",
       "        vertical-align: top;\n",
       "    }\n",
       "\n",
       "    .dataframe thead th {\n",
       "        text-align: right;\n",
       "    }\n",
       "</style>\n",
       "<table border=\"1\" class=\"dataframe\">\n",
       "  <thead>\n",
       "    <tr style=\"text-align: right;\">\n",
       "      <th></th>\n",
       "      <th>u</th>\n",
       "      <th>degree</th>\n",
       "    </tr>\n",
       "  </thead>\n",
       "  <tbody>\n",
       "    <tr>\n",
       "      <th>0</th>\n",
       "      <td>{'_id': {'offset': 591, 'table': 1}, '_label':...</td>\n",
       "      <td>94</td>\n",
       "    </tr>\n",
       "    <tr>\n",
       "      <th>1</th>\n",
       "      <td>{'_id': {'offset': 607, 'table': 1}, '_label':...</td>\n",
       "      <td>831</td>\n",
       "    </tr>\n",
       "    <tr>\n",
       "      <th>2</th>\n",
       "      <td>{'_id': {'offset': 181, 'table': 1}, '_label':...</td>\n",
       "      <td>977</td>\n",
       "    </tr>\n",
       "    <tr>\n",
       "      <th>3</th>\n",
       "      <td>{'_id': {'offset': 601, 'table': 1}, '_label':...</td>\n",
       "      <td>135</td>\n",
       "    </tr>\n",
       "    <tr>\n",
       "      <th>4</th>\n",
       "      <td>{'_id': {'offset': 169, 'table': 1}, '_label':...</td>\n",
       "      <td>50</td>\n",
       "    </tr>\n",
       "  </tbody>\n",
       "</table>\n",
       "</div>"
      ],
      "text/plain": [
       "                                                   u  degree\n",
       "0  {'_id': {'offset': 591, 'table': 1}, '_label':...      94\n",
       "1  {'_id': {'offset': 607, 'table': 1}, '_label':...     831\n",
       "2  {'_id': {'offset': 181, 'table': 1}, '_label':...     977\n",
       "3  {'_id': {'offset': 601, 'table': 1}, '_label':...     135\n",
       "4  {'_id': {'offset': 169, 'table': 1}, '_label':...      50"
      ]
     },
     "execution_count": 10,
     "metadata": {},
     "output_type": "execute_result"
    }
   ],
   "source": [
    "# Query 4: Query all nodes with the label 'User'. Count the degree for these nodes. Filter the nodes where the user rated more than 3 movies. Return the users and the degree\n",
    "# Hint: First find all users and their ratings, then count the degree, and finally filter the results to only include users with more than 3 ratings\n",
    "result = connection.execute(\"\")\n",
    "\n",
    "df = result.get_as_df()\n",
    "df.head()"
   ]
  },
  {
   "cell_type": "code",
   "execution_count": null,
   "metadata": {},
   "outputs": [
    {
     "data": {
      "application/vnd.microsoft.datawrangler.viewer.v0+json": {
       "columns": [
        {
         "name": "index",
         "rawType": "int64",
         "type": "integer"
        },
        {
         "name": "genres",
         "rawType": "object",
         "type": "string"
        },
        {
         "name": "MovieCount",
         "rawType": "int64",
         "type": "integer"
        }
       ],
       "conversionMethod": "pd.DataFrame",
       "ref": "4698969d-867d-4967-a715-9112bdad55de",
       "rows": [
        [
         "0",
         "Drama",
         "1058"
        ],
        [
         "1",
         "Comedy",
         "950"
        ],
        [
         "2",
         "Comedy|Drama",
         "435"
        ],
        [
         "3",
         "Comedy|Romance",
         "363"
        ],
        [
         "4",
         "Drama|Romance",
         "349"
        ]
       ],
       "shape": {
        "columns": 2,
        "rows": 5
       }
      },
      "text/html": [
       "<div>\n",
       "<style scoped>\n",
       "    .dataframe tbody tr th:only-of-type {\n",
       "        vertical-align: middle;\n",
       "    }\n",
       "\n",
       "    .dataframe tbody tr th {\n",
       "        vertical-align: top;\n",
       "    }\n",
       "\n",
       "    .dataframe thead th {\n",
       "        text-align: right;\n",
       "    }\n",
       "</style>\n",
       "<table border=\"1\" class=\"dataframe\">\n",
       "  <thead>\n",
       "    <tr style=\"text-align: right;\">\n",
       "      <th></th>\n",
       "      <th>genres</th>\n",
       "      <th>MovieCount</th>\n",
       "    </tr>\n",
       "  </thead>\n",
       "  <tbody>\n",
       "    <tr>\n",
       "      <th>0</th>\n",
       "      <td>Drama</td>\n",
       "      <td>1058</td>\n",
       "    </tr>\n",
       "    <tr>\n",
       "      <th>1</th>\n",
       "      <td>Comedy</td>\n",
       "      <td>950</td>\n",
       "    </tr>\n",
       "    <tr>\n",
       "      <th>2</th>\n",
       "      <td>Comedy|Drama</td>\n",
       "      <td>435</td>\n",
       "    </tr>\n",
       "    <tr>\n",
       "      <th>3</th>\n",
       "      <td>Comedy|Romance</td>\n",
       "      <td>363</td>\n",
       "    </tr>\n",
       "    <tr>\n",
       "      <th>4</th>\n",
       "      <td>Drama|Romance</td>\n",
       "      <td>349</td>\n",
       "    </tr>\n",
       "  </tbody>\n",
       "</table>\n",
       "</div>"
      ],
      "text/plain": [
       "           genres  MovieCount\n",
       "0           Drama        1058\n",
       "1          Comedy         950\n",
       "2    Comedy|Drama         435\n",
       "3  Comedy|Romance         363\n",
       "4   Drama|Romance         349"
      ]
     },
     "execution_count": 18,
     "metadata": {},
     "output_type": "execute_result"
    }
   ],
   "source": [
    "# Query 5: Query all nodes with the label 'Movie'. Each node has a 'genre' attribute. Count the number of nodes per genre\n",
    "# Hint: Use the `WITH` clause to group by genres and count the number of movies\n",
    "result = connection.execute(\"\")\n",
    "\n",
    "df = result.get_as_df()\n",
    "df.head()"
   ]
  },
  {
   "cell_type": "code",
   "execution_count": null,
   "metadata": {},
   "outputs": [
    {
     "data": {
      "application/vnd.microsoft.datawrangler.viewer.v0+json": {
       "columns": [
        {
         "name": "index",
         "rawType": "int64",
         "type": "integer"
        },
        {
         "name": "title",
         "rawType": "object",
         "type": "string"
        },
        {
         "name": "avg_rating",
         "rawType": "float64",
         "type": "float"
        }
       ],
       "conversionMethod": "pd.DataFrame",
       "ref": "b6ec4a61-6311-4c6d-b0a5-3f3e775f3aaf",
       "rows": [
        [
         "0",
         "Cherish (2002)",
         "5.0"
        ],
        [
         "1",
         "Madame Sousatzka (1988)",
         "5.0"
        ],
        [
         "2",
         "Jane Eyre (1944)",
         "5.0"
        ],
        [
         "3",
         "Return to Treasure Island (1988)",
         "5.0"
        ],
        [
         "4",
         "Vampire in Venice (Nosferatu a Venezia) (Nosferatu in Venice) (1986)",
         "5.0"
        ]
       ],
       "shape": {
        "columns": 2,
        "rows": 5
       }
      },
      "text/html": [
       "<div>\n",
       "<style scoped>\n",
       "    .dataframe tbody tr th:only-of-type {\n",
       "        vertical-align: middle;\n",
       "    }\n",
       "\n",
       "    .dataframe tbody tr th {\n",
       "        vertical-align: top;\n",
       "    }\n",
       "\n",
       "    .dataframe thead th {\n",
       "        text-align: right;\n",
       "    }\n",
       "</style>\n",
       "<table border=\"1\" class=\"dataframe\">\n",
       "  <thead>\n",
       "    <tr style=\"text-align: right;\">\n",
       "      <th></th>\n",
       "      <th>title</th>\n",
       "      <th>avg_rating</th>\n",
       "    </tr>\n",
       "  </thead>\n",
       "  <tbody>\n",
       "    <tr>\n",
       "      <th>0</th>\n",
       "      <td>Cherish (2002)</td>\n",
       "      <td>5.0</td>\n",
       "    </tr>\n",
       "    <tr>\n",
       "      <th>1</th>\n",
       "      <td>Madame Sousatzka (1988)</td>\n",
       "      <td>5.0</td>\n",
       "    </tr>\n",
       "    <tr>\n",
       "      <th>2</th>\n",
       "      <td>Jane Eyre (1944)</td>\n",
       "      <td>5.0</td>\n",
       "    </tr>\n",
       "    <tr>\n",
       "      <th>3</th>\n",
       "      <td>Return to Treasure Island (1988)</td>\n",
       "      <td>5.0</td>\n",
       "    </tr>\n",
       "    <tr>\n",
       "      <th>4</th>\n",
       "      <td>Vampire in Venice (Nosferatu a Venezia) (Nosfe...</td>\n",
       "      <td>5.0</td>\n",
       "    </tr>\n",
       "  </tbody>\n",
       "</table>\n",
       "</div>"
      ],
      "text/plain": [
       "                                               title  avg_rating\n",
       "0                                     Cherish (2002)         5.0\n",
       "1                            Madame Sousatzka (1988)         5.0\n",
       "2                                   Jane Eyre (1944)         5.0\n",
       "3                   Return to Treasure Island (1988)         5.0\n",
       "4  Vampire in Venice (Nosferatu a Venezia) (Nosfe...         5.0"
      ]
     },
     "execution_count": 13,
     "metadata": {},
     "output_type": "execute_result"
    }
   ],
   "source": [
    "# Query 6: Query all nodes with the label 'Movie' and 'User', and the edge 'Rating' between movie and user. Each edge 'Rating' has a rating. Find the top 10 rated movies by average rating score\n",
    "# Hint: Use the AVG clause to calculate an average. Use the `ORDER BY` clause to sort the movies by rating in descending order\n",
    "result = connection.execute(\"\")\n",
    "\n",
    "df = result.get_as_df()\n",
    "df.head()"
   ]
  },
  {
   "cell_type": "code",
   "execution_count": null,
   "metadata": {},
   "outputs": [
    {
     "data": {
      "application/vnd.microsoft.datawrangler.viewer.v0+json": {
       "columns": [
        {
         "name": "index",
         "rawType": "int64",
         "type": "integer"
        },
        {
         "name": "m1.title",
         "rawType": "object",
         "type": "string"
        },
        {
         "name": "m2.title",
         "rawType": "object",
         "type": "string"
        },
        {
         "name": "CommonUsers",
         "rawType": "int64",
         "type": "integer"
        }
       ],
       "conversionMethod": "pd.DataFrame",
       "ref": "5715a46a-6da6-4a58-b6f1-ebb9cb6e90b3",
       "rows": [
        [
         "0",
         "Shawshank Redemption, The (1994)",
         "Forrest Gump (1994)",
         "231"
        ],
        [
         "1",
         "Pulp Fiction (1994)",
         "Forrest Gump (1994)",
         "230"
        ],
        [
         "2",
         "Pulp Fiction (1994)",
         "Shawshank Redemption, The (1994)",
         "222"
        ],
        [
         "3",
         "Pulp Fiction (1994)",
         "Silence of the Lambs, The (1991)",
         "207"
        ],
        [
         "4",
         "Forrest Gump (1994)",
         "Silence of the Lambs, The (1991)",
         "199"
        ]
       ],
       "shape": {
        "columns": 3,
        "rows": 5
       }
      },
      "text/html": [
       "<div>\n",
       "<style scoped>\n",
       "    .dataframe tbody tr th:only-of-type {\n",
       "        vertical-align: middle;\n",
       "    }\n",
       "\n",
       "    .dataframe tbody tr th {\n",
       "        vertical-align: top;\n",
       "    }\n",
       "\n",
       "    .dataframe thead th {\n",
       "        text-align: right;\n",
       "    }\n",
       "</style>\n",
       "<table border=\"1\" class=\"dataframe\">\n",
       "  <thead>\n",
       "    <tr style=\"text-align: right;\">\n",
       "      <th></th>\n",
       "      <th>m1.title</th>\n",
       "      <th>m2.title</th>\n",
       "      <th>CommonUsers</th>\n",
       "    </tr>\n",
       "  </thead>\n",
       "  <tbody>\n",
       "    <tr>\n",
       "      <th>0</th>\n",
       "      <td>Shawshank Redemption, The (1994)</td>\n",
       "      <td>Forrest Gump (1994)</td>\n",
       "      <td>231</td>\n",
       "    </tr>\n",
       "    <tr>\n",
       "      <th>1</th>\n",
       "      <td>Pulp Fiction (1994)</td>\n",
       "      <td>Forrest Gump (1994)</td>\n",
       "      <td>230</td>\n",
       "    </tr>\n",
       "    <tr>\n",
       "      <th>2</th>\n",
       "      <td>Pulp Fiction (1994)</td>\n",
       "      <td>Shawshank Redemption, The (1994)</td>\n",
       "      <td>222</td>\n",
       "    </tr>\n",
       "    <tr>\n",
       "      <th>3</th>\n",
       "      <td>Pulp Fiction (1994)</td>\n",
       "      <td>Silence of the Lambs, The (1991)</td>\n",
       "      <td>207</td>\n",
       "    </tr>\n",
       "    <tr>\n",
       "      <th>4</th>\n",
       "      <td>Forrest Gump (1994)</td>\n",
       "      <td>Silence of the Lambs, The (1991)</td>\n",
       "      <td>199</td>\n",
       "    </tr>\n",
       "  </tbody>\n",
       "</table>\n",
       "</div>"
      ],
      "text/plain": [
       "                           m1.title                          m2.title  \\\n",
       "0  Shawshank Redemption, The (1994)               Forrest Gump (1994)   \n",
       "1               Pulp Fiction (1994)               Forrest Gump (1994)   \n",
       "2               Pulp Fiction (1994)  Shawshank Redemption, The (1994)   \n",
       "3               Pulp Fiction (1994)  Silence of the Lambs, The (1991)   \n",
       "4               Forrest Gump (1994)  Silence of the Lambs, The (1991)   \n",
       "\n",
       "   CommonUsers  \n",
       "0          231  \n",
       "1          230  \n",
       "2          222  \n",
       "3          207  \n",
       "4          199  "
      ]
     },
     "execution_count": 12,
     "metadata": {},
     "output_type": "execute_result"
    }
   ],
   "source": [
    "# Query 7: Query all nodes with the label 'Movie' and 'User', and the edge 'Rating' between movie and user. Find pairs of movies often rated by the same users\n",
    "result = connection.execute(\"\")\n",
    "\n",
    "df = result.get_as_df()\n",
    "df.head()"
   ]
  },
  {
   "cell_type": "code",
   "execution_count": null,
   "metadata": {},
   "outputs": [],
   "source": []
  }
 ],
 "metadata": {
  "kernelspec": {
   "display_name": ".venv",
   "language": "python",
   "name": "python3"
  },
  "language_info": {
   "codemirror_mode": {
    "name": "ipython",
    "version": 3
   },
   "file_extension": ".py",
   "mimetype": "text/x-python",
   "name": "python",
   "nbconvert_exporter": "python",
   "pygments_lexer": "ipython3",
   "version": "3.9.21"
  }
 },
 "nbformat": 4,
 "nbformat_minor": 2
}
