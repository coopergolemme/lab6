{
 "cells": [
  {
   "cell_type": "markdown",
   "metadata": {},
   "source": [
    "# Introduction to Graph Datbases\n",
    "\n",
    "The first part of this assignment is designed to give you hands-on experience with graph databases. You will start by setting up an in-memory graph database, for which the support code is already written. Once the database is running, you will execute queries of increasing complexity, exploring how relationships between nodes and edges are stored and retrieved. Through this process, you will gain practical insights into graph database concepts such as connectivity, traversal, and querying using graph-specific languages."
   ]
  },
  {
   "cell_type": "code",
   "execution_count": 19,
   "metadata": {},
   "outputs": [],
   "source": [
    "import os\n",
    "import sys\n",
    "import pandas as pd\n",
    "pd.set_option('display.max_colwidth', 200)\n",
    "\n",
    "sys.path.append(os.path.abspath(os.path.join(os.path.dirname('__file__'), '..')))\n",
    "from utils import setup_database, download_sample_data"
   ]
  },
  {
   "cell_type": "code",
   "execution_count": 20,
   "metadata": {},
   "outputs": [
    {
     "name": "stdout",
     "output_type": "stream",
     "text": [
      "Downloading sample data\n",
      "Downloading https://kuzudb.com/data/movie-lens/movies.csv...\n",
      "Saved https://kuzudb.com/data/movie-lens/movies.csv to ../data/movies.csv\n",
      "Downloading https://kuzudb.com/data/movie-lens/users.csv...\n",
      "Saved https://kuzudb.com/data/movie-lens/users.csv to ../data/users.csv\n",
      "Downloading https://kuzudb.com/data/movie-lens/ratings.csv...\n",
      "Saved https://kuzudb.com/data/movie-lens/ratings.csv to ../data/ratings.csv\n",
      "Downloading https://kuzudb.com/data/movie-lens/tags.csv...\n",
      "Saved https://kuzudb.com/data/movie-lens/tags.csv to ../data/tags.csv\n",
      "Sample data downloaded successfully\n",
      "Loading graph database\n",
      "Removing existing database at ../tmp\n"
     ]
    },
    {
     "data": {
      "text/plain": [
       "<kuzu.query_result.QueryResult at 0x7ff48e86b4f0>"
      ]
     },
     "execution_count": 20,
     "metadata": {},
     "output_type": "execute_result"
    }
   ],
   "source": [
    "# Download sample data for the Kuzudb example\n",
    "data_dir = '../data'\n",
    "download_sample_data(data_dir, urls=[\n",
    "    \"https://kuzudb.com/data/movie-lens/movies.csv\",\n",
    "    \"https://kuzudb.com/data/movie-lens/users.csv\",\n",
    "    \"https://kuzudb.com/data/movie-lens/ratings.csv\",\n",
    "    \"https://kuzudb.com/data/movie-lens/tags.csv\"\n",
    "])\n",
    "\n",
    "# Set up the Kuzudb database connection\n",
    "connection = setup_database('../tmp', delete_existing=True)\n",
    "\n",
    "# Create schema\n",
    "connection.execute('CREATE NODE TABLE Movie (movieId INT64, year INT64, title STRING, genres STRING, PRIMARY KEY (movieId))')\n",
    "connection.execute('CREATE NODE TABLE User (userId INT64, PRIMARY KEY (userId))')\n",
    "connection.execute('CREATE REL TABLE Rating (FROM User TO Movie, rating DOUBLE, timestamp INT64)')\n",
    "connection.execute('CREATE REL TABLE Tags (FROM User TO Movie, tag STRING, timestamp INT64)')\n",
    "\n",
    "# Insert data\n",
    "connection.execute(f'COPY Movie FROM \"{data_dir}/movies.csv\" (HEADER=TRUE)')\n",
    "connection.execute(f'COPY User FROM \"{data_dir}/users.csv\" (HEADER=TRUE)')\n",
    "connection.execute(f'COPY Rating FROM \"{data_dir}/ratings.csv\" (HEADER=TRUE)')\n",
    "connection.execute(f'COPY Tags FROM \"{data_dir}/tags.csv\" (HEADER=TRUE)')\n"
   ]
  },
  {
   "cell_type": "markdown",
   "metadata": {},
   "source": [
    "## Running Queries\n",
    "\n",
    "Now that your graph database is set up, you can begin querying it. This section includes seven queries, each increasing in complexity."
   ]
  },
  {
   "cell_type": "code",
   "execution_count": 21,
   "metadata": {},
   "outputs": [
    {
     "data": {
      "application/vnd.microsoft.datawrangler.viewer.v0+json": {
       "columns": [
        {
         "name": "index",
         "rawType": "int64",
         "type": "integer"
        },
        {
         "name": "m",
         "rawType": "object",
         "type": "unknown"
        }
       ],
       "conversionMethod": "pd.DataFrame",
       "ref": "fadaf5bf-8f58-4548-84f5-8838c4017915",
       "rows": [
        [
         "0",
         "{'_id': {'offset': 0, 'table': 0}, '_label': 'Movie', 'movieId': 833, 'year': 1996, 'title': 'High School High (1996)', 'genres': 'Comedy'}"
        ],
        [
         "1",
         "{'_id': {'offset': 1, 'table': 0}, '_label': 'Movie', 'movieId': 835, 'year': 1996, 'title': 'Foxfire (1996)', 'genres': 'Drama'}"
        ],
        [
         "2",
         "{'_id': {'offset': 2, 'table': 0}, '_label': 'Movie', 'movieId': 836, 'year': 1996, 'title': 'Chain Reaction (1996)', 'genres': 'Action|Adventure|Thriller'}"
        ],
        [
         "3",
         "{'_id': {'offset': 3, 'table': 0}, '_label': 'Movie', 'movieId': 837, 'year': 1996, 'title': 'Matilda (1996)', 'genres': 'Children|Comedy|Fantasy'}"
        ],
        [
         "4",
         "{'_id': {'offset': 4, 'table': 0}, '_label': 'Movie', 'movieId': 838, 'year': 1996, 'title': 'Emma (1996)', 'genres': 'Comedy|Drama|Romance'}"
        ]
       ],
       "shape": {
        "columns": 1,
        "rows": 5
       }
      },
      "text/html": [
       "<div>\n",
       "<style scoped>\n",
       "    .dataframe tbody tr th:only-of-type {\n",
       "        vertical-align: middle;\n",
       "    }\n",
       "\n",
       "    .dataframe tbody tr th {\n",
       "        vertical-align: top;\n",
       "    }\n",
       "\n",
       "    .dataframe thead th {\n",
       "        text-align: right;\n",
       "    }\n",
       "</style>\n",
       "<table border=\"1\" class=\"dataframe\">\n",
       "  <thead>\n",
       "    <tr style=\"text-align: right;\">\n",
       "      <th></th>\n",
       "      <th>m</th>\n",
       "    </tr>\n",
       "  </thead>\n",
       "  <tbody>\n",
       "    <tr>\n",
       "      <th>0</th>\n",
       "      <td>{'_id': {'offset': 0, 'table': 0}, '_label': 'Movie', 'movieId': 833, 'year': 1996, 'title': 'High School High (1996)', 'genres': 'Comedy'}</td>\n",
       "    </tr>\n",
       "    <tr>\n",
       "      <th>1</th>\n",
       "      <td>{'_id': {'offset': 1, 'table': 0}, '_label': 'Movie', 'movieId': 835, 'year': 1996, 'title': 'Foxfire (1996)', 'genres': 'Drama'}</td>\n",
       "    </tr>\n",
       "    <tr>\n",
       "      <th>2</th>\n",
       "      <td>{'_id': {'offset': 2, 'table': 0}, '_label': 'Movie', 'movieId': 836, 'year': 1996, 'title': 'Chain Reaction (1996)', 'genres': 'Action|Adventure|Thriller'}</td>\n",
       "    </tr>\n",
       "    <tr>\n",
       "      <th>3</th>\n",
       "      <td>{'_id': {'offset': 3, 'table': 0}, '_label': 'Movie', 'movieId': 837, 'year': 1996, 'title': 'Matilda (1996)', 'genres': 'Children|Comedy|Fantasy'}</td>\n",
       "    </tr>\n",
       "    <tr>\n",
       "      <th>4</th>\n",
       "      <td>{'_id': {'offset': 4, 'table': 0}, '_label': 'Movie', 'movieId': 838, 'year': 1996, 'title': 'Emma (1996)', 'genres': 'Comedy|Drama|Romance'}</td>\n",
       "    </tr>\n",
       "  </tbody>\n",
       "</table>\n",
       "</div>"
      ],
      "text/plain": [
       "                                                                                                                                                              m\n",
       "0                   {'_id': {'offset': 0, 'table': 0}, '_label': 'Movie', 'movieId': 833, 'year': 1996, 'title': 'High School High (1996)', 'genres': 'Comedy'}\n",
       "1                             {'_id': {'offset': 1, 'table': 0}, '_label': 'Movie', 'movieId': 835, 'year': 1996, 'title': 'Foxfire (1996)', 'genres': 'Drama'}\n",
       "2  {'_id': {'offset': 2, 'table': 0}, '_label': 'Movie', 'movieId': 836, 'year': 1996, 'title': 'Chain Reaction (1996)', 'genres': 'Action|Adventure|Thriller'}\n",
       "3           {'_id': {'offset': 3, 'table': 0}, '_label': 'Movie', 'movieId': 837, 'year': 1996, 'title': 'Matilda (1996)', 'genres': 'Children|Comedy|Fantasy'}\n",
       "4                 {'_id': {'offset': 4, 'table': 0}, '_label': 'Movie', 'movieId': 838, 'year': 1996, 'title': 'Emma (1996)', 'genres': 'Comedy|Drama|Romance'}"
      ]
     },
     "execution_count": 21,
     "metadata": {},
     "output_type": "execute_result"
    }
   ],
   "source": [
    "# Query 1: Query all nodes with the label 'Movie'. Return those movie nodes. Limit your results to 25\n",
    "result = connection.execute(\"MATCH (m:Movie) RETURN m LIMIT 25\")\n",
    "\n",
    "df = result.get_as_df()\n",
    "df.head()"
   ]
  },
  {
   "cell_type": "code",
   "execution_count": 22,
   "metadata": {},
   "outputs": [
    {
     "data": {
      "application/vnd.microsoft.datawrangler.viewer.v0+json": {
       "columns": [
        {
         "name": "index",
         "rawType": "int64",
         "type": "integer"
        },
        {
         "name": "p",
         "rawType": "object",
         "type": "unknown"
        }
       ],
       "conversionMethod": "pd.DataFrame",
       "ref": "df061e17-768d-4661-862b-4d1bf0b0d195",
       "rows": [
        [
         "0",
         "{'_id': {'offset': 0, 'table': 1}, '_label': 'User', 'movieId': None, 'year': None, 'title': None, 'genres': None, 'userId': 1}"
        ],
        [
         "1",
         "{'_id': {'offset': 0, 'table': 1}, '_label': 'User', 'movieId': None, 'year': None, 'title': None, 'genres': None, 'userId': 1}"
        ],
        [
         "2",
         "{'_id': {'offset': 0, 'table': 1}, '_label': 'User', 'movieId': None, 'year': None, 'title': None, 'genres': None, 'userId': 1}"
        ],
        [
         "3",
         "{'_id': {'offset': 0, 'table': 1}, '_label': 'User', 'movieId': None, 'year': None, 'title': None, 'genres': None, 'userId': 1}"
        ],
        [
         "4",
         "{'_id': {'offset': 0, 'table': 1}, '_label': 'User', 'movieId': None, 'year': None, 'title': None, 'genres': None, 'userId': 1}"
        ]
       ],
       "shape": {
        "columns": 1,
        "rows": 5
       }
      },
      "text/html": [
       "<div>\n",
       "<style scoped>\n",
       "    .dataframe tbody tr th:only-of-type {\n",
       "        vertical-align: middle;\n",
       "    }\n",
       "\n",
       "    .dataframe tbody tr th {\n",
       "        vertical-align: top;\n",
       "    }\n",
       "\n",
       "    .dataframe thead th {\n",
       "        text-align: right;\n",
       "    }\n",
       "</style>\n",
       "<table border=\"1\" class=\"dataframe\">\n",
       "  <thead>\n",
       "    <tr style=\"text-align: right;\">\n",
       "      <th></th>\n",
       "      <th>p</th>\n",
       "    </tr>\n",
       "  </thead>\n",
       "  <tbody>\n",
       "    <tr>\n",
       "      <th>0</th>\n",
       "      <td>{'_id': {'offset': 0, 'table': 1}, '_label': 'User', 'movieId': None, 'year': None, 'title': None, 'genres': None, 'userId': 1}</td>\n",
       "    </tr>\n",
       "    <tr>\n",
       "      <th>1</th>\n",
       "      <td>{'_id': {'offset': 0, 'table': 1}, '_label': 'User', 'movieId': None, 'year': None, 'title': None, 'genres': None, 'userId': 1}</td>\n",
       "    </tr>\n",
       "    <tr>\n",
       "      <th>2</th>\n",
       "      <td>{'_id': {'offset': 0, 'table': 1}, '_label': 'User', 'movieId': None, 'year': None, 'title': None, 'genres': None, 'userId': 1}</td>\n",
       "    </tr>\n",
       "    <tr>\n",
       "      <th>3</th>\n",
       "      <td>{'_id': {'offset': 0, 'table': 1}, '_label': 'User', 'movieId': None, 'year': None, 'title': None, 'genres': None, 'userId': 1}</td>\n",
       "    </tr>\n",
       "    <tr>\n",
       "      <th>4</th>\n",
       "      <td>{'_id': {'offset': 0, 'table': 1}, '_label': 'User', 'movieId': None, 'year': None, 'title': None, 'genres': None, 'userId': 1}</td>\n",
       "    </tr>\n",
       "  </tbody>\n",
       "</table>\n",
       "</div>"
      ],
      "text/plain": [
       "                                                                                                                                 p\n",
       "0  {'_id': {'offset': 0, 'table': 1}, '_label': 'User', 'movieId': None, 'year': None, 'title': None, 'genres': None, 'userId': 1}\n",
       "1  {'_id': {'offset': 0, 'table': 1}, '_label': 'User', 'movieId': None, 'year': None, 'title': None, 'genres': None, 'userId': 1}\n",
       "2  {'_id': {'offset': 0, 'table': 1}, '_label': 'User', 'movieId': None, 'year': None, 'title': None, 'genres': None, 'userId': 1}\n",
       "3  {'_id': {'offset': 0, 'table': 1}, '_label': 'User', 'movieId': None, 'year': None, 'title': None, 'genres': None, 'userId': 1}\n",
       "4  {'_id': {'offset': 0, 'table': 1}, '_label': 'User', 'movieId': None, 'year': None, 'title': None, 'genres': None, 'userId': 1}"
      ]
     },
     "execution_count": 22,
     "metadata": {},
     "output_type": "execute_result"
    }
   ],
   "source": [
    "# Query 2: Query all nodes with the label 'Movie'. Get all connected nodes to the movie nodes. Limit your results to 50\n",
    "result = connection.execute(\" MATCH (:Movie)--(p) RETURN p LIMIT 50\")\n",
    "\n",
    "df = result.get_as_df()\n",
    "df.head()"
   ]
  },
  {
   "cell_type": "code",
   "execution_count": 23,
   "metadata": {},
   "outputs": [
    {
     "data": {
      "application/vnd.microsoft.datawrangler.viewer.v0+json": {
       "columns": [
        {
         "name": "index",
         "rawType": "int64",
         "type": "integer"
        },
        {
         "name": "total_nodes",
         "rawType": "int64",
         "type": "integer"
        }
       ],
       "conversionMethod": "pd.DataFrame",
       "ref": "00f3b6b9-9cdd-45c6-b9f8-808a87816576",
       "rows": [
        [
         "0",
         "10352"
        ]
       ],
       "shape": {
        "columns": 1,
        "rows": 1
       }
      },
      "text/html": [
       "<div>\n",
       "<style scoped>\n",
       "    .dataframe tbody tr th:only-of-type {\n",
       "        vertical-align: middle;\n",
       "    }\n",
       "\n",
       "    .dataframe tbody tr th {\n",
       "        vertical-align: top;\n",
       "    }\n",
       "\n",
       "    .dataframe thead th {\n",
       "        text-align: right;\n",
       "    }\n",
       "</style>\n",
       "<table border=\"1\" class=\"dataframe\">\n",
       "  <thead>\n",
       "    <tr style=\"text-align: right;\">\n",
       "      <th></th>\n",
       "      <th>total_nodes</th>\n",
       "    </tr>\n",
       "  </thead>\n",
       "  <tbody>\n",
       "    <tr>\n",
       "      <th>0</th>\n",
       "      <td>10352</td>\n",
       "    </tr>\n",
       "  </tbody>\n",
       "</table>\n",
       "</div>"
      ],
      "text/plain": [
       "   total_nodes\n",
       "0        10352"
      ]
     },
     "execution_count": 23,
     "metadata": {},
     "output_type": "execute_result"
    }
   ],
   "source": [
    "# Query 3: Count the total number of nodes in the database\n",
    "# Hint: Use the `COUNT` function to count the number of nodes\n",
    "result = connection.execute(\" MATCH (m) RETURN COUNT(m) AS total_nodes\")\n",
    "\n",
    "df = result.get_as_df()\n",
    "df.head()"
   ]
  },
  {
   "cell_type": "code",
   "execution_count": 24,
   "metadata": {},
   "outputs": [
    {
     "data": {
      "application/vnd.microsoft.datawrangler.viewer.v0+json": {
       "columns": [
        {
         "name": "index",
         "rawType": "int64",
         "type": "integer"
        },
        {
         "name": "u",
         "rawType": "object",
         "type": "unknown"
        },
        {
         "name": "degree",
         "rawType": "int64",
         "type": "integer"
        }
       ],
       "conversionMethod": "pd.DataFrame",
       "ref": "6e7b9a8a-56b0-4631-aeb6-76a41e4c8716",
       "rows": [
        [
         "0",
         "{'_id': {'offset': 598, 'table': 1}, '_label': 'User', 'userId': 599}",
         "2478"
        ],
        [
         "1",
         "{'_id': {'offset': 608, 'table': 1}, '_label': 'User', 'userId': 609}",
         "37"
        ],
        [
         "2",
         "{'_id': {'offset': 607, 'table': 1}, '_label': 'User', 'userId': 608}",
         "831"
        ],
        [
         "3",
         "{'_id': {'offset': 110, 'table': 1}, '_label': 'User', 'userId': 111}",
         "646"
        ],
        [
         "4",
         "{'_id': {'offset': 520, 'table': 1}, '_label': 'User', 'userId': 521}",
         "40"
        ]
       ],
       "shape": {
        "columns": 2,
        "rows": 5
       }
      },
      "text/html": [
       "<div>\n",
       "<style scoped>\n",
       "    .dataframe tbody tr th:only-of-type {\n",
       "        vertical-align: middle;\n",
       "    }\n",
       "\n",
       "    .dataframe tbody tr th {\n",
       "        vertical-align: top;\n",
       "    }\n",
       "\n",
       "    .dataframe thead th {\n",
       "        text-align: right;\n",
       "    }\n",
       "</style>\n",
       "<table border=\"1\" class=\"dataframe\">\n",
       "  <thead>\n",
       "    <tr style=\"text-align: right;\">\n",
       "      <th></th>\n",
       "      <th>u</th>\n",
       "      <th>degree</th>\n",
       "    </tr>\n",
       "  </thead>\n",
       "  <tbody>\n",
       "    <tr>\n",
       "      <th>0</th>\n",
       "      <td>{'_id': {'offset': 598, 'table': 1}, '_label': 'User', 'userId': 599}</td>\n",
       "      <td>2478</td>\n",
       "    </tr>\n",
       "    <tr>\n",
       "      <th>1</th>\n",
       "      <td>{'_id': {'offset': 608, 'table': 1}, '_label': 'User', 'userId': 609}</td>\n",
       "      <td>37</td>\n",
       "    </tr>\n",
       "    <tr>\n",
       "      <th>2</th>\n",
       "      <td>{'_id': {'offset': 607, 'table': 1}, '_label': 'User', 'userId': 608}</td>\n",
       "      <td>831</td>\n",
       "    </tr>\n",
       "    <tr>\n",
       "      <th>3</th>\n",
       "      <td>{'_id': {'offset': 110, 'table': 1}, '_label': 'User', 'userId': 111}</td>\n",
       "      <td>646</td>\n",
       "    </tr>\n",
       "    <tr>\n",
       "      <th>4</th>\n",
       "      <td>{'_id': {'offset': 520, 'table': 1}, '_label': 'User', 'userId': 521}</td>\n",
       "      <td>40</td>\n",
       "    </tr>\n",
       "  </tbody>\n",
       "</table>\n",
       "</div>"
      ],
      "text/plain": [
       "                                                                       u  \\\n",
       "0  {'_id': {'offset': 598, 'table': 1}, '_label': 'User', 'userId': 599}   \n",
       "1  {'_id': {'offset': 608, 'table': 1}, '_label': 'User', 'userId': 609}   \n",
       "2  {'_id': {'offset': 607, 'table': 1}, '_label': 'User', 'userId': 608}   \n",
       "3  {'_id': {'offset': 110, 'table': 1}, '_label': 'User', 'userId': 111}   \n",
       "4  {'_id': {'offset': 520, 'table': 1}, '_label': 'User', 'userId': 521}   \n",
       "\n",
       "   degree  \n",
       "0    2478  \n",
       "1      37  \n",
       "2     831  \n",
       "3     646  \n",
       "4      40  "
      ]
     },
     "execution_count": 24,
     "metadata": {},
     "output_type": "execute_result"
    }
   ],
   "source": [
    "# Query 4: Query all nodes with the label 'User'. Count the degree for these nodes. Filter the nodes where the user rated more than 3 movies. Return the users and the degree\n",
    "# Hint: First find all users and their ratings, then count the degree, and finally filter the results to only include users with more than 3 ratings\n",
    "result = connection.execute(\" MATCH (u:User)-[r:Rating]-(m:Movie) WITH u, COUNT(u) AS degree WHERE degree > 3 RETURN u, degree\")\n",
    "\n",
    "df = result.get_as_df()\n",
    "df.head()"
   ]
  },
  {
   "cell_type": "code",
   "execution_count": 25,
   "metadata": {},
   "outputs": [
    {
     "data": {
      "application/vnd.microsoft.datawrangler.viewer.v0+json": {
       "columns": [
        {
         "name": "index",
         "rawType": "int64",
         "type": "integer"
        },
        {
         "name": "genre",
         "rawType": "object",
         "type": "string"
        },
        {
         "name": "count",
         "rawType": "int64",
         "type": "integer"
        }
       ],
       "conversionMethod": "pd.DataFrame",
       "ref": "9606d4b1-da77-444e-b101-49d6315ddf64",
       "rows": [
        [
         "0",
         "Comedy",
         "950"
        ],
        [
         "1",
         "Action|Adventure|Thriller",
         "40"
        ],
        [
         "2",
         "Action|Comedy|Crime",
         "42"
        ],
        [
         "3",
         "Action|Adventure|Mystery|Romance|Thriller",
         "1"
        ],
        [
         "4",
         "Adventure|Children|Fantasy|Musical",
         "2"
        ]
       ],
       "shape": {
        "columns": 2,
        "rows": 5
       }
      },
      "text/html": [
       "<div>\n",
       "<style scoped>\n",
       "    .dataframe tbody tr th:only-of-type {\n",
       "        vertical-align: middle;\n",
       "    }\n",
       "\n",
       "    .dataframe tbody tr th {\n",
       "        vertical-align: top;\n",
       "    }\n",
       "\n",
       "    .dataframe thead th {\n",
       "        text-align: right;\n",
       "    }\n",
       "</style>\n",
       "<table border=\"1\" class=\"dataframe\">\n",
       "  <thead>\n",
       "    <tr style=\"text-align: right;\">\n",
       "      <th></th>\n",
       "      <th>genre</th>\n",
       "      <th>count</th>\n",
       "    </tr>\n",
       "  </thead>\n",
       "  <tbody>\n",
       "    <tr>\n",
       "      <th>0</th>\n",
       "      <td>Comedy</td>\n",
       "      <td>950</td>\n",
       "    </tr>\n",
       "    <tr>\n",
       "      <th>1</th>\n",
       "      <td>Action|Adventure|Thriller</td>\n",
       "      <td>40</td>\n",
       "    </tr>\n",
       "    <tr>\n",
       "      <th>2</th>\n",
       "      <td>Action|Comedy|Crime</td>\n",
       "      <td>42</td>\n",
       "    </tr>\n",
       "    <tr>\n",
       "      <th>3</th>\n",
       "      <td>Action|Adventure|Mystery|Romance|Thriller</td>\n",
       "      <td>1</td>\n",
       "    </tr>\n",
       "    <tr>\n",
       "      <th>4</th>\n",
       "      <td>Adventure|Children|Fantasy|Musical</td>\n",
       "      <td>2</td>\n",
       "    </tr>\n",
       "  </tbody>\n",
       "</table>\n",
       "</div>"
      ],
      "text/plain": [
       "                                       genre  count\n",
       "0                                     Comedy    950\n",
       "1                  Action|Adventure|Thriller     40\n",
       "2                        Action|Comedy|Crime     42\n",
       "3  Action|Adventure|Mystery|Romance|Thriller      1\n",
       "4         Adventure|Children|Fantasy|Musical      2"
      ]
     },
     "execution_count": 25,
     "metadata": {},
     "output_type": "execute_result"
    }
   ],
   "source": [
    "# Query 5: Query all nodes with the label 'Movie'. Each node has a 'genre' attribute. Count the number of nodes per genre\n",
    "# Hint: Use the `WITH` clause to group by genres and count the number of movies\n",
    "result = connection.execute(\"MATCH (m:Movie) WITH m.genres AS genre, COUNT(m) AS count RETURN genre, count\")\n",
    "\n",
    "df = result.get_as_df()\n",
    "df.head()"
   ]
  },
  {
   "cell_type": "code",
   "execution_count": 26,
   "metadata": {},
   "outputs": [
    {
     "data": {
      "application/vnd.microsoft.datawrangler.viewer.v0+json": {
       "columns": [
        {
         "name": "index",
         "rawType": "int64",
         "type": "integer"
        },
        {
         "name": "m.title",
         "rawType": "object",
         "type": "string"
        },
        {
         "name": "AvgRating",
         "rawType": "float64",
         "type": "float"
        }
       ],
       "conversionMethod": "pd.DataFrame",
       "ref": "f69c76f5-04ee-4bd7-a5cd-8ab5c54ab539",
       "rows": [
        [
         "0",
         "Faster (2010)",
         "5.0"
        ],
        [
         "1",
         "Tom and Jerry: A Nutcracker Tale (2007)",
         "5.0"
        ],
        [
         "2",
         "Buzzard (2015)",
         "5.0"
        ],
        [
         "3",
         "What Love Is (2007)",
         "5.0"
        ],
        [
         "4",
         "Sorority House Massacre II (1990)",
         "5.0"
        ]
       ],
       "shape": {
        "columns": 2,
        "rows": 5
       }
      },
      "text/html": [
       "<div>\n",
       "<style scoped>\n",
       "    .dataframe tbody tr th:only-of-type {\n",
       "        vertical-align: middle;\n",
       "    }\n",
       "\n",
       "    .dataframe tbody tr th {\n",
       "        vertical-align: top;\n",
       "    }\n",
       "\n",
       "    .dataframe thead th {\n",
       "        text-align: right;\n",
       "    }\n",
       "</style>\n",
       "<table border=\"1\" class=\"dataframe\">\n",
       "  <thead>\n",
       "    <tr style=\"text-align: right;\">\n",
       "      <th></th>\n",
       "      <th>m.title</th>\n",
       "      <th>AvgRating</th>\n",
       "    </tr>\n",
       "  </thead>\n",
       "  <tbody>\n",
       "    <tr>\n",
       "      <th>0</th>\n",
       "      <td>Faster (2010)</td>\n",
       "      <td>5.0</td>\n",
       "    </tr>\n",
       "    <tr>\n",
       "      <th>1</th>\n",
       "      <td>Tom and Jerry: A Nutcracker Tale (2007)</td>\n",
       "      <td>5.0</td>\n",
       "    </tr>\n",
       "    <tr>\n",
       "      <th>2</th>\n",
       "      <td>Buzzard (2015)</td>\n",
       "      <td>5.0</td>\n",
       "    </tr>\n",
       "    <tr>\n",
       "      <th>3</th>\n",
       "      <td>What Love Is (2007)</td>\n",
       "      <td>5.0</td>\n",
       "    </tr>\n",
       "    <tr>\n",
       "      <th>4</th>\n",
       "      <td>Sorority House Massacre II (1990)</td>\n",
       "      <td>5.0</td>\n",
       "    </tr>\n",
       "  </tbody>\n",
       "</table>\n",
       "</div>"
      ],
      "text/plain": [
       "                                   m.title  AvgRating\n",
       "0                            Faster (2010)        5.0\n",
       "1  Tom and Jerry: A Nutcracker Tale (2007)        5.0\n",
       "2                           Buzzard (2015)        5.0\n",
       "3                      What Love Is (2007)        5.0\n",
       "4        Sorority House Massacre II (1990)        5.0"
      ]
     },
     "execution_count": 26,
     "metadata": {},
     "output_type": "execute_result"
    }
   ],
   "source": [
    "# Query 6: Query all nodes with the label 'Movie' and 'User', and the edge 'Rating' between movie and user. Each edge 'Rating' has a rating. Find the top 10 rated movies by average rating score\n",
    "# Hint: Use the AVG clause to calculate an average. Use the `ORDER BY` clause to sort the movies by rating in descending order\n",
    "result = connection.execute(\"MATCH (u:User)-[r:Rating]-(m:Movie) WITH m, AVG(r.rating) AS AvgRating RETURN m.title, AvgRating ORDER BY AvgRating DESC LIMIT 10\")\n",
    "\n",
    "df = result.get_as_df()\n",
    "df.head()"
   ]
  },
  {
   "cell_type": "code",
   "execution_count": 27,
   "metadata": {},
   "outputs": [
    {
     "data": {
      "application/vnd.microsoft.datawrangler.viewer.v0+json": {
       "columns": [
        {
         "name": "index",
         "rawType": "int64",
         "type": "integer"
        },
        {
         "name": "m1.title",
         "rawType": "object",
         "type": "string"
        },
        {
         "name": "m2.title",
         "rawType": "object",
         "type": "string"
        },
        {
         "name": "commonUsers",
         "rawType": "int64",
         "type": "integer"
        }
       ],
       "conversionMethod": "pd.DataFrame",
       "ref": "1baad44d-40ea-44dc-892f-53225598d456",
       "rows": [
        [
         "0",
         "Shawshank Redemption, The (1994)",
         "Forrest Gump (1994)",
         "231"
        ],
        [
         "1",
         "Pulp Fiction (1994)",
         "Forrest Gump (1994)",
         "230"
        ],
        [
         "2",
         "Pulp Fiction (1994)",
         "Shawshank Redemption, The (1994)",
         "222"
        ],
        [
         "3",
         "Pulp Fiction (1994)",
         "Silence of the Lambs, The (1991)",
         "207"
        ],
        [
         "4",
         "Forrest Gump (1994)",
         "Silence of the Lambs, The (1991)",
         "199"
        ]
       ],
       "shape": {
        "columns": 3,
        "rows": 5
       }
      },
      "text/html": [
       "<div>\n",
       "<style scoped>\n",
       "    .dataframe tbody tr th:only-of-type {\n",
       "        vertical-align: middle;\n",
       "    }\n",
       "\n",
       "    .dataframe tbody tr th {\n",
       "        vertical-align: top;\n",
       "    }\n",
       "\n",
       "    .dataframe thead th {\n",
       "        text-align: right;\n",
       "    }\n",
       "</style>\n",
       "<table border=\"1\" class=\"dataframe\">\n",
       "  <thead>\n",
       "    <tr style=\"text-align: right;\">\n",
       "      <th></th>\n",
       "      <th>m1.title</th>\n",
       "      <th>m2.title</th>\n",
       "      <th>commonUsers</th>\n",
       "    </tr>\n",
       "  </thead>\n",
       "  <tbody>\n",
       "    <tr>\n",
       "      <th>0</th>\n",
       "      <td>Shawshank Redemption, The (1994)</td>\n",
       "      <td>Forrest Gump (1994)</td>\n",
       "      <td>231</td>\n",
       "    </tr>\n",
       "    <tr>\n",
       "      <th>1</th>\n",
       "      <td>Pulp Fiction (1994)</td>\n",
       "      <td>Forrest Gump (1994)</td>\n",
       "      <td>230</td>\n",
       "    </tr>\n",
       "    <tr>\n",
       "      <th>2</th>\n",
       "      <td>Pulp Fiction (1994)</td>\n",
       "      <td>Shawshank Redemption, The (1994)</td>\n",
       "      <td>222</td>\n",
       "    </tr>\n",
       "    <tr>\n",
       "      <th>3</th>\n",
       "      <td>Pulp Fiction (1994)</td>\n",
       "      <td>Silence of the Lambs, The (1991)</td>\n",
       "      <td>207</td>\n",
       "    </tr>\n",
       "    <tr>\n",
       "      <th>4</th>\n",
       "      <td>Forrest Gump (1994)</td>\n",
       "      <td>Silence of the Lambs, The (1991)</td>\n",
       "      <td>199</td>\n",
       "    </tr>\n",
       "  </tbody>\n",
       "</table>\n",
       "</div>"
      ],
      "text/plain": [
       "                           m1.title                          m2.title  \\\n",
       "0  Shawshank Redemption, The (1994)               Forrest Gump (1994)   \n",
       "1               Pulp Fiction (1994)               Forrest Gump (1994)   \n",
       "2               Pulp Fiction (1994)  Shawshank Redemption, The (1994)   \n",
       "3               Pulp Fiction (1994)  Silence of the Lambs, The (1991)   \n",
       "4               Forrest Gump (1994)  Silence of the Lambs, The (1991)   \n",
       "\n",
       "   commonUsers  \n",
       "0          231  \n",
       "1          230  \n",
       "2          222  \n",
       "3          207  \n",
       "4          199  "
      ]
     },
     "execution_count": 27,
     "metadata": {},
     "output_type": "execute_result"
    }
   ],
   "source": [
    "# Query 7: Query all nodes with the label 'Movie' and 'User', and the edge 'Rating' between movie and user. Find pairs of movies often rated by the same users\n",
    "\n",
    "result = connection.execute(\"\"\"\n",
    "MATCH (m1:Movie)-[r1:Rating]-(u1:User), (m2:Movie)-[r2:Rating]-(u1:User) \n",
    "WHERE m1 < m2\n",
    "WITH m1, m2, COUNT(u1) AS commonUsers\n",
    "ORDER BY commonUsers DESC\n",
    "LIMIT 10\n",
    "RETURN m1.title, m2.title, commonUsers\n",
    "\"\"\")\n",
    "\n",
    "df = result.get_as_df()\n",
    "df.head()"
   ]
  }
 ],
 "metadata": {
  "kernelspec": {
   "display_name": ".venv",
   "language": "python",
   "name": "python3"
  },
  "language_info": {
   "codemirror_mode": {
    "name": "ipython",
    "version": 3
   },
   "file_extension": ".py",
   "mimetype": "text/x-python",
   "name": "python",
   "nbconvert_exporter": "python",
   "pygments_lexer": "ipython3",
   "version": "3.9.0"
  }
 },
 "nbformat": 4,
 "nbformat_minor": 2
}
