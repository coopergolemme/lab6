{
 "cells": [
  {
   "cell_type": "markdown",
   "metadata": {},
   "source": [
    "# Parameterized Queries\n",
    "\n",
    "As discussed in class, many Visual Analytics systems function as wrappers around database queries, including those designed for graph data. In this part of the assignment, you will implement a parameterized query, allowing users to customize query inputs dynamically. This will help you understand how parameterization work, which is the start of implementing your own system in the next part of the assignment."
   ]
  },
  {
   "cell_type": "code",
   "execution_count": 1,
   "metadata": {},
   "outputs": [],
   "source": [
    "import os\n",
    "import sys\n",
    "import networkx as nx\n",
    "import ipywidgets as widgets\n",
    "import matplotlib.pyplot as plt\n",
    "\n",
    "sys.path.append(os.path.abspath(os.path.join(os.path.dirname('__file__'), '..')))\n",
    "from utils import setup_database"
   ]
  },
  {
   "cell_type": "code",
   "execution_count": 2,
   "metadata": {},
   "outputs": [
    {
     "name": "stdout",
     "output_type": "stream",
     "text": [
      "Loading graph database\n",
      "Removing lock file\n",
      "Removed stale lock file: ../tmp/.lock\n"
     ]
    }
   ],
   "source": [
    "# Connect to existing database from part 1\n",
    "connection = setup_database('../tmp', delete_existing=False)"
   ]
  },
  {
   "cell_type": "markdown",
   "metadata": {},
   "source": [
    "## Building Parameterized Graph Query\n",
    "1. Set up the output area (already done for you)\n",
    "2. Make a function that constructs a parameterized query\n",
    "3. Use that function to query the database\n",
    "4. Visualize the query results\n",
    "5. Build interaction elements to configure parameterized query"
   ]
  },
  {
   "cell_type": "code",
   "execution_count": 3,
   "metadata": {},
   "outputs": [],
   "source": [
    "output_area = widgets.Output(layout={'border': '1px solid black', 'min_height': '300px'})"
   ]
  },
  {
   "cell_type": "code",
   "execution_count": 4,
   "metadata": {},
   "outputs": [],
   "source": [
    "# TODO: construct a Cypher query with a parameter to filter nodes or relationships in the graph.\n",
    "def construct_query(parameter_value, operator):\n",
    "    return 'MATCH (n) RETURN n LIMIT 10'"
   ]
  },
  {
   "cell_type": "code",
   "execution_count": 5,
   "metadata": {},
   "outputs": [],
   "source": [
    "# Define a function to execute the query, process the results, and visualize the data\n",
    "@output_area.capture(clear_output=True)\n",
    "def visualize_results(parameter_value, operator):\n",
    "    plt.close('all')\n",
    "    \n",
    "    # Use the parameter_value and operator to construct a Cypher query and execute it\n",
    "    query = construct_query(parameter_value, operator)\n",
    "    results = connection.execute(query)\n",
    "    \n",
    "    # Process the results into a Graph\n",
    "    graph = results.get_as_networkx(directed=False)\n",
    "\n",
    "    if graph.number_of_nodes() == 0:\n",
    "        print(f\"No results found for parameter value: {parameter_value}\")\n",
    "        return\n",
    "    \n",
    "    print(f\"Graph has {graph.number_of_nodes()} nodes and {graph.number_of_edges()} edges\")\n",
    "\n",
    "    plt.figure(figsize=(10, 8))\n",
    "    ax = plt.gca()\n",
    "    pos = nx.spring_layout(graph, seed=42)\n",
    "\n",
    "\n",
    "    nx.draw(graph, pos, \n",
    "            ax=ax,\n",
    "            with_labels=False, \n",
    "            edge_color='gray',\n",
    "            arrowsize=10,\n",
    "            alpha=0.8)\n",
    "\n",
    "    plt.title(f\"Movie Network (Movies with year {operator} {parameter_value})\")\n",
    "    plt.subplots_adjust(left=0.05, right=0.95, top=0.95, bottom=0.05)\n",
    "    plt.tight_layout()\n",
    "    plt.show()"
   ]
  },
  {
   "cell_type": "code",
   "execution_count": 6,
   "metadata": {},
   "outputs": [],
   "source": [
    "# Create an interactive widgets for dropdown and slider\n",
    "operator_dropdown = widgets.Dropdown(\n",
    "    options=['>=', '<=', '=', '>', '<'],\n",
    "    value='>=',\n",
    "    description='Operator:',\n",
    "    disabled=False,\n",
    ")\n",
    "\n",
    "slider = widgets.IntSlider(\n",
    "    value=2000,\n",
    "    min=1950,\n",
    "    max=2024,\n",
    "    step=1,\n",
    "    description='Parameter:',\n",
    "    continuous_update=False \n",
    ")"
   ]
  },
  {
   "cell_type": "code",
   "execution_count": 7,
   "metadata": {},
   "outputs": [
    {
     "data": {
      "application/vnd.jupyter.widget-view+json": {
       "model_id": "05bcfaf26a664e888ba1cbcd6a094c40",
       "version_major": 2,
       "version_minor": 0
      },
      "text/plain": [
       "VBox(children=(IntSlider(value=2000, continuous_update=False, description='Parameter:', max=2024, min=1950), D…"
      ]
     },
     "metadata": {},
     "output_type": "display_data"
    }
   ],
   "source": [
    "# Display the initial visualization with the default slider value\n",
    "widgets.interactive(visualize_results, parameter_value=slider, operator=operator_dropdown)\n",
    "\n",
    "display(widgets.VBox([\n",
    "    slider,\n",
    "    operator_dropdown,\n",
    "    output_area\n",
    "    ]))"
   ]
  },
  {
   "cell_type": "code",
   "execution_count": null,
   "metadata": {},
   "outputs": [],
   "source": []
  }
 ],
 "metadata": {
  "kernelspec": {
   "display_name": ".venv",
   "language": "python",
   "name": "python3"
  },
  "language_info": {
   "codemirror_mode": {
    "name": "ipython",
    "version": 3
   },
   "file_extension": ".py",
   "mimetype": "text/x-python",
   "name": "python",
   "nbconvert_exporter": "python",
   "pygments_lexer": "ipython3",
   "version": "3.9.21"
  }
 },
 "nbformat": 4,
 "nbformat_minor": 2
}
